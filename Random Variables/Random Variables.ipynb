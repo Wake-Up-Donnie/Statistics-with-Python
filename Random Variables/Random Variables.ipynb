{
 "cells": [
  {
   "cell_type": "markdown",
   "metadata": {},
   "source": [
    "# Random Variables"
   ]
  },
  {
   "cell_type": "markdown",
   "metadata": {},
   "source": [
    "1) Let random variable $X$ be the number we get when we roll a die,    \n",
    "    1. Write out the probability mass function of X.     \n",
    "    2. Calculate the mean of X.  \n",
    "    3. Calculate the variance of X.  "
   ]
  },
  {
   "cell_type": "markdown",
   "metadata": {},
   "source": [
    "**Probabiliy mass function**\n",
    "\n",
    "|x        |  1  |  2  |  3  |  4  |  5  |  6  |\n",
    "|:--------|:---:|:---:|:---:|:---:|:---:|:---:|\n",
    "|P(X = x) | 1/6 | 1/6 |1/6  | 1/6 |1/6  | 1/6 |\n",
    "\n",
    "1. $ f_X (x) = P (X = x)$ for x = 1, 2, 3, 4, 5, 6"
   ]
  },
  {
   "cell_type": "code",
   "execution_count": 31,
   "metadata": {},
   "outputs": [
    {
     "name": "stdout",
     "output_type": "stream",
     "text": [
      "3.5\n",
      "2.916666666666667\n",
      "3.5\n",
      "2.916666666666667\n"
     ]
    }
   ],
   "source": [
    "#2. \n",
    "EX = (1*(1/6) + 2*(1/6) + 3*(1/6) + 4*(1/6) + 5*(1/6) + 6*(1/6))\n",
    "print (EX)\n",
    "Var_X = ((1-3.5)**2 * 1/6 + (2-3.5)**2 * 1/6 + (3-3.5)**2 * 1/6 + (4-3.5)**2 * 1/6 + (5-3.5)**2 * 1/6 + (6-3.5)**2 * 1/6)\n",
    "print (Var_X)\n",
    "\n",
    "#Cleaner for fun\n",
    "def E_X():\n",
    "    ex = 0\n",
    "    for i in range(1,7):\n",
    "        ex += i*(1/6)\n",
    "    return (ex)\n",
    "Ex = E_X()\n",
    "print (Ex)\n",
    "\n",
    "def Var_X():\n",
    "    var = 0\n",
    "    for i in range(1,7):\n",
    "        var += ((i-3.5)**2 * 1/6)\n",
    "    return (var)\n",
    "variance = Var_X()\n",
    "print (variance)"
   ]
  },
  {
   "cell_type": "markdown",
   "metadata": {},
   "source": [
    "2) Use either `randint` or `random_sample` to generate a series of 20 rolls. Use `.mean()` and `.var()` to calculate the sample mean and variance. How do these compare to the population mean and variance you calculated above? What if you increase the number of rolls to 2000. Are your estimates closer to the true statistics or further away?"
   ]
  },
  {
   "cell_type": "code",
   "execution_count": 36,
   "metadata": {},
   "outputs": [
    {
     "name": "stdout",
     "output_type": "stream",
     "text": [
      "Mean of the population: 3.5 Mean of the rolls:  3.436\n",
      "Variance of the population: 2.916666666666667 variance of the rolls:  2.970904\n"
     ]
    }
   ],
   "source": [
    "import numpy as np\n",
    "\n",
    "rolls = [np.random.randint(1,7) for _ in range(2000)]\n",
    "print (\"Mean of the population: \" + str(Ex) + \" Mean of the rolls: \", np.mean(rolls))\n",
    "print (\"Variance of the population: \" + str(variance) + \" variance of the rolls: \", np.var(rolls))\n",
    "\n",
    "#They are kind of close at 20 roles but when we increase them to 2000 they start to converge."
   ]
  },
  {
   "cell_type": "markdown",
   "metadata": {},
   "source": [
    "3) Now we have two dice, and X and Y are the numbers appear on each die respectively. Let Z be the sum of the numbers from the two dice,  \n",
    "    1. Write out the probability mass function of Z.  \n",
    "    2. Calculate the mean of Z.  \n",
    "    3. Calculate the variance of Z."
   ]
  },
  {
   "cell_type": "markdown",
   "metadata": {},
   "source": [
    "**Probability mass function**\n",
    "\n",
    "|x         |  2  |  3  |  4  |  5     |  6  | 7   |  8  |  9  |  10  |  11  |  12  |\n",
    "|:--------|:---:|:---:|:---: |:---:   |:---:|:---:|:---:|:---:|:---:|:---:|:---:|\n",
    "|P(Z = z) | 1/36 |2/36  | 3/36 | 4/36 | 5/36 |6/36|5/36 | 4/36|3/36 |2 / 36| 1/36 |\n",
    "\n",
    "$ f_X (z) = P (Z = z)$ for z = 2, 3, 4, 5, 6, 7, 8, 9, 10, 11, 12 \n",
    "\n",
    "\n",
    "$ f_X (z) = P (X = x) + P (Y = y)$ for x, y = 1, 2, 3, 4, 5, 6\n"
   ]
  },
  {
   "cell_type": "raw",
   "metadata": {},
   "source": [
    "E(Z) = E(X) + E(Y) = 3.5 + 3.5 = 7\n",
    "Var(Z) = Var(X) + Var(Y) = 2.92 + 2.92 = 5.83"
   ]
  },
  {
   "cell_type": "markdown",
   "metadata": {},
   "source": [
    "4) Do the same as in (2) but with two dice as in (3). Again, check to see how $N$, the number of samples, affects your result."
   ]
  },
  {
   "cell_type": "code",
   "execution_count": 38,
   "metadata": {},
   "outputs": [
    {
     "name": "stdout",
     "output_type": "stream",
     "text": [
      "Mean of the population: 3.5 Mean of the rolls:  3.5\n",
      "Variance of the population: 2.916666666666667 variance of the rolls:  2.35\n"
     ]
    }
   ],
   "source": [
    "rolls = [np.random.randint(1,7,2) for _ in range(20)]\n",
    "\n",
    "print (\"Mean of the population: \" + str(Ex) + \" Mean of the rolls: \", np.mean(rolls))\n",
    "print (\"Variance of the population: \" + str(variance) + \" variance of the rolls: \", np.var(rolls))"
   ]
  },
  {
   "cell_type": "code",
   "execution_count": 39,
   "metadata": {},
   "outputs": [
    {
     "name": "stdout",
     "output_type": "stream",
     "text": [
      "Mean of the population: 3.5 Mean of the rolls:  3.48925\n",
      "Variance of the population: 2.916666666666667 variance of the rolls:  2.8933844375\n"
     ]
    }
   ],
   "source": [
    "rolls = [np.random.randint(1,7,2) for _ in range(2000)]\n",
    "\n",
    "print (\"Mean of the population: \" + str(Ex) + \" Mean of the rolls: \", np.mean(rolls))\n",
    "print (\"Variance of the population: \" + str(variance) + \" variance of the rolls: \", np.var(rolls))"
   ]
  },
  {
   "cell_type": "raw",
   "metadata": {},
   "source": [
    "You can see that as the number of samples goes up the results converge to the population stats but it takes more runs to converge becuase the number of possible outcomes has increased."
   ]
  },
  {
   "cell_type": "markdown",
   "metadata": {},
   "source": [
    "5) Find the variance of each of the following bets from the class notes. Which bet is riskiest and which best is safest (where \"risk\" is assessed according to variance, not expected value)?\n",
    "\n",
    "1. You get \\$5 with probability 1.0.  \n",
    "2. You get \\$10 with probability 0.5, or \\$0 with probability 0.5.  \n",
    "3. You get \\$5 with probability 0.5, \\$10 with probability 0.25 and \\$0 with probability 0.25.  \n",
    "4. You get \\$5 with probability 0.5, \\$105 with probability 0.25 or lose \\$95 with probability 0.25.  "
   ]
  },
  {
   "cell_type": "raw",
   "metadata": {},
   "source": [
    "1. E(X) = $5 * 1 = $5; Var(X) = (5-5)^2 * 1 = 0\n",
    "2. E(X) = $10 * .5 + $0 * .5 = $5; Var(X) = (10 - 5)^2 * .5 + (0-5)^2 * .5 = 25\n",
    "3. E(X) = $5 * .5 + $10 * .25 + 0 * .25 = $5; Var(X) = (5-5)^2 * .25 + (0-5)^2 * .25 = 12.5\n",
    "4. E(X) = $5 * .5 + $105 * .25 - $95 * .25 = $5; Var(X) = (5-5)^2 * .5 + (105-5)^2 * .25 + (-95-5)^2 * .25 = 5000\n",
    "\n",
    "All bets have the same expected value but the best choice is the first one becuase it has lower variance."
   ]
  },
  {
   "cell_type": "markdown",
   "metadata": {},
   "source": [
    "6) Brandon Lang is a creative entrepreneur who has developed a novelty soap item called Jackpot to target consumers with a gambling habit. Inside each bar of Jackpot shower soap is a single rolled-up bill of U.S. currency. The currency (rolled up and sealed in shrink-wrap) is appropriately inserted into the soap mixture prior to the cutting and stamping procedure. The distribution of paper currency (per 1000 bars of soap) is given in the following table.  \n",
    "\n",
    "|   Bill Denomination   |   Number of Bills |\n",
    "|:---------------------:|:-----------------:|\n",
    "|\\$1                     | 520 |\n",
    "|\\$5                     | 260 |\n",
    "|\\$10                    | 120 |\n",
    "|\\$20                    | 70  |\n",
    "|\\$50                    | 29  |  \n",
    "|\\$100                   | 1   |\n",
    "| Total                  | 1000|\n",
    "\n",
    "1. What is the expected amount of money in a single bar of Jackpot soap?\n",
    "2. What is the standard deviation of the money in a single bar of Jackpot soap?\n",
    "3. How many bars of soap would a customer have to buy so that, on average, he or she has purchased three bars   containing a \\$50 or \\$100 bill?\n",
    "4. If a customer buys 8 bars of soap, what is the probability that at least one of these bars contains a bill of \\$20 or larger? "
   ]
  },
  {
   "cell_type": "code",
   "execution_count": 54,
   "metadata": {},
   "outputs": [
    {
     "name": "stdout",
     "output_type": "stream",
     "text": [
      "the expected amount of money in a single bar of soap $ 5.97\n",
      "the standard deviation of the money in a single bar of Jackpot soap $ 5.97\n"
     ]
    }
   ],
   "source": [
    "import itertools\n",
    "import math\n",
    "def E_X_soap():\n",
    "    ex = 0\n",
    "    bill_denom = [1,5,10,20,50,100]\n",
    "    number_of_bills = [.52,.26,.12,.07,.029,.001]\n",
    "    for i,l in zip(bill_denom,number_of_bills):\n",
    "        ex += i*(l)\n",
    "    return (ex)\n",
    "\n",
    "def Var_soap():\n",
    "    var = 0\n",
    "    bill_denom = [1,5,10,20,50,100]\n",
    "    number_of_bills = [.52,.26,.12,.07,.029,.001]\n",
    "    for i,l in zip(bill_denom,number_of_bills):\n",
    "        var += ((i-5.97)**2 * l)\n",
    "    return (var)\n",
    "strd_dev_soap = math.sqrt(Var_soap())\n",
    "#question 1 and 2\n",
    "print (\"the expected amount of money in a single bar of soap $\", E_X_soap())\n",
    "print (\"the standard deviation of the money in a single bar of Jackpot soap $\", E_X_soap())"
   ]
  },
  {
   "cell_type": "raw",
   "metadata": {},
   "source": [
    "Question 3\n",
    "P(X >= $50) = P(X = $50) + P(X = $100) = 0.03\n",
    "bars * .03 = 3; number of bars = 3/.03 = 100 bars"
   ]
  },
  {
   "cell_type": "raw",
   "metadata": {},
   "source": [
    "Question 4 - chain rule\n",
    "(900/1000)*(899/999)*(898/998)*(897/997)*(896/996)*(895/995)*(894/994)*(893/993) = 0.429123 \n",
    "1 - 0.4307 = 0.569 = 57% of at least one has a $20 or larger"
   ]
  },
  {
   "cell_type": "markdown",
   "metadata": {},
   "source": [
    "7) Write a function that randomly draws from the above distribution. \n",
    "\n",
    "1. Use it to simulate the answer to part 3 of the last question at least 20 times. How often do you get the expected result? "
   ]
  },
  {
   "cell_type": "code",
   "execution_count": 114,
   "metadata": {},
   "outputs": [
    {
     "name": "stdout",
     "output_type": "stream",
     "text": [
      "[23, 90, 263, 197, 167, 79, 57, 40, 37, 125, 72, 136, 97, 69, 91, 60, 146, 45, 132, 87]\n",
      "100.65\n"
     ]
    }
   ],
   "source": [
    "def distribution(n):\n",
    "    numbers =[np.random.choice([1,5,10,20,50,100],p=[.52,.26,.12,.07,.029,.001]) for _ in range(n)]\n",
    "    \n",
    "    if len(numbers) ==1:\n",
    "        for item in numbers:\n",
    "            return(int(item))\n",
    "    else:\n",
    "        return numbers\n",
    "\n",
    "\n",
    "def choose():\n",
    "    iteration = 0\n",
    "    count_of_bars = 0\n",
    "    while count_of_bars < 3:\n",
    "        ran_sample_from_dist = distribution(1)\n",
    "        if (ran_sample_from_dist == 50 or ran_sample_from_dist == 100):\n",
    "            iteration += 1\n",
    "            count_of_bars += 1\n",
    "            #print(\"at least 50 or 100 on iteration:\", iteration)\n",
    "        else:\n",
    "            iteration += 1\n",
    "    return (iteration)\n",
    "\n",
    "twenty_times =[choose() for i in range(20)]\n",
    "print (twenty_times)\n",
    "print (np.mean(twenty_times))"
   ]
  },
  {
   "cell_type": "markdown",
   "metadata": {
    "collapsed": true
   },
   "source": [
    "2. Use it to simulate part 4 of the last question 100 times. How close does your simulation come to the true expected value?"
   ]
  },
  {
   "cell_type": "code",
   "execution_count": 130,
   "metadata": {},
   "outputs": [
    {
     "name": "stdout",
     "output_type": "stream",
     "text": [
      "0.0875\n"
     ]
    }
   ],
   "source": [
    "def distribution(n):\n",
    "    numbers =[np.random.choice([1,5,10,20,50,100],p=[.52,.26,.12,.07,.029,.001]) for _ in range(n)]\n",
    "    \n",
    "    if len(numbers) ==1:\n",
    "        for item in numbers:\n",
    "            return(int(item))\n",
    "    else:\n",
    "        return numbers\n",
    "\n",
    "\n",
    "def choose():\n",
    "    count_of_bars = 0\n",
    "    ran_sample_from_dist = distribution(8)\n",
    "    for i in ran_sample_from_dist:\n",
    "        if (i >= 20):\n",
    "            count_of_bars += 1\n",
    "    return (count_of_bars/8)\n",
    "\n",
    "twenty_times =[choose() for i in range(100)]\n",
    "print (np.mean(twenty_times))"
   ]
  },
  {
   "cell_type": "raw",
   "metadata": {},
   "source": [
    "probablility you get a bar of soap greater or equal to $20 is 10.6%, it is very far off from the expected value."
   ]
  }
 ],
 "metadata": {
  "anaconda-cloud": {},
  "kernelspec": {
   "display_name": "Python 3",
   "language": "python",
   "name": "python3"
  },
  "language_info": {
   "codemirror_mode": {
    "name": "ipython",
    "version": 3
   },
   "file_extension": ".py",
   "mimetype": "text/x-python",
   "name": "python",
   "nbconvert_exporter": "python",
   "pygments_lexer": "ipython3",
   "version": "3.4.2"
  }
 },
 "nbformat": 4,
 "nbformat_minor": 1
}
