{
 "cells": [
  {
   "cell_type": "markdown",
   "metadata": {},
   "source": [
    "# Conditional Probability, Bayes Law and the Chain Rule"
   ]
  },
  {
   "cell_type": "markdown",
   "metadata": {},
   "source": [
    "\n",
    "**1).** A Store Manager wants to understand how his customers use different payment methods, and suspects that the size of the purchase is a major deciding factor. He organizes the table below.\n",
    "\n",
    "|                   | Cash | Debit | Credit |\n",
    "|-------------------|:----:|------:|--------|\n",
    "| Under &#36;20     |  400 |   150 | 150    |\n",
    "| &#36;20 - &#36;50 |  200 |  1200 | 800    |\n",
    "| Over &#36;50      |  100 |   600 |1400    |\n",
    "\n",
    "a) Given that a customer spent over $50, what's the probability that the customer used a credit card?  \n",
    "\n",
    "P(Credit card | Spent > $50) = P(Credit Card and Spent > $50) / P(Spent > $50) = 1400 / (2000) = 66.67%\n",
    "\n",
    "b) Given that a customer paid in cash, what's the probability that the customer spent less than $20?  \n",
    "\n",
    "P(Spent < $20| Cash) = P(Cash and Spend < $20) / P(Cash) = 400 / 700 = 57%\n",
    "\n",
    "c) What's the probability that a customer spent under $20 using cash?  \n",
    "\n",
    "P(Spent under $20 and Cash) = 400/5000 = 8%"
   ]
  },
  {
   "cell_type": "markdown",
   "metadata": {},
   "source": [
    "**2).** Suppose 80% of people like peanut butter, 89% like jelly, and 78% like both. Given that a randomly sampled person likes peanut butter, what's the probability that he also likes jelly?"
   ]
  },
  {
   "cell_type": "raw",
   "metadata": {},
   "source": [
    "P(Jelly | Peanut butter) = P(Penut butter and Jelly) / P(Penut Butter) = .78 / .8 = 97.5%"
   ]
  },
  {
   "cell_type": "markdown",
   "metadata": {},
   "source": [
    "**3).** The Behavioral Risk Factor Surveillance System (BRFSS) is an annual telephone survey designed to identify risk factors in the adult population and report emerging health trends. The following table displays the distribution of health status of respondents to this survey (excellent, very good, good, fair, poor) conditional on whether or not they have health insurance.\n",
    "\n",
    "<img src=\"images/q3.png\" width=\"700\">  \n",
    "\n",
    "(a) Are being in excellent health and having health coverage mutually exclusive? \n",
    "No they are not.\n",
    "\n",
    "(b) What is the probability that a randomly chosen individual has excellent health?  \n",
    "\n",
    ".2329\n",
    "\n",
    "(c) What is the probability that a randomly chosen individual has excellent health given that he\n",
    "has health coverage?  \n",
    "\n",
    "P(excellent health | has coverage) = P(excellent health and has coverage) / P(health coverage) = .2099 / .8738 = 24%\n",
    "\n",
    "(d) What is the probability that a randomly chosen individual has excellent health given that he\n",
    "doesn't have health coverage?  \n",
    "\n",
    "P(excellent health | no coverage) = P(excellent health and no coverage) / P(no coverage) = .0230 / .8738 = 18.2%\n",
    "\n",
    "(e) Do having excellent health and having health coverage appear to be independent?  \n",
    "\n",
    "P(excellent health | has coverage) = P(excellent health)?\n",
    "24% != 20.99%\n",
    "They are NOT independent\n"
   ]
  },
  {
   "cell_type": "markdown",
   "metadata": {},
   "source": [
    "**4).** A gSchool grad is looking for her first job!  Given that she is freaked out, her chances of not getting an offer are 70%.  Given that she isn't freaked out, her chances of not getting an offer are 30%.  Suppose that the probability that she's freaked out is 80%. What's the probability that she gets an offer?"
   ]
  },
  {
   "cell_type": "raw",
   "metadata": {},
   "source": [
    "P(freaked out) = .80\n",
    "P(not freaked out) = .20\n",
    "P(no offer | freaked out) = .70\n",
    "P(no offer | not freaked out) = .30\n",
    "\n",
    "P(offer) =1 - P(no offer) = 1 - P(no offer | freaked out) * P(freaked out) + P(no offer | not freaked out) * P(not freaked out) = \n",
    "1 - ((.70 * .80) + (.30 * .20)) = 38%"
   ]
  },
  {
   "cell_type": "markdown",
   "metadata": {},
   "source": [
    "**5).** Google decides to do random drug tests for heroin on their employees. They know that 3% of their population uses heroin. The drug test has the following accuracy: The test correctly identifies 95% of the heroin users (sensitivity) and 90% of the non-users (specificity).\n",
    "\n",
    "|                | Uses heroin | Doesn't use heroin |\n",
    "|----------------|------------:|-------------------:|\n",
    "| Tests positive |        0.95 |               0.10 |\n",
    "| Tests negative |        0.05 |               0.90 |\n",
    "\n",
    "   Alice gets tested and the test comes back positive. What is the probability\n",
    "   that she uses heroin?"
   ]
  },
  {
   "cell_type": "raw",
   "metadata": {},
   "source": [
    "P(uses heroin) = .03\n",
    "P(does not use heroin) = .97\n",
    "\n",
    "Using Bayes' Theorem\n",
    "P(uses heroin | tests pos) = P(tests pos | uses heroin) * P(uses heroin)\n",
    "/ P(tests pos)\n",
    "\n",
    "= .95 * .03 / (.03 * .95 + .97 * .10)  = 22.7%\n",
    "Because 22.7% exceeds 3% this shows strong incremental evidence that Alice uses Heroin. Although the total evidence for this seems weak."
   ]
  },
  {
   "cell_type": "markdown",
   "metadata": {},
   "source": [
    "**6).** A genetic test is used to determine if people have a predisposition for thrombosis, which is the formation of a blood clot inside a blood vessel that obstructs the flow of blood through the circulatory system. It is believed that 3% of people actually have this predisposition. The genetic test is 99% accurate if a person actually has the predisposition, meaning that the probability of a positive test result when a person actually has the predisposition is 0.99. The test is 98% accurate if a person does not have the predisposition.  \n",
    "\n",
    "What is the probability that a randomly selected person who tests positive for the predisposition by the test actually has the predisposition?"
   ]
  },
  {
   "cell_type": "raw",
   "metadata": {},
   "source": [
    "P(Positive test | has predisp) = .99\n",
    "P(Positive test | no predisp) = .98\n",
    "P(Has predisp) = .03\n",
    "P(Does not have predisp) = .97\n",
    "\n",
    "P(has predis | positive test) = P(positive test | has predis) *\n",
    "P(has predis) / P(Positive test) = (.99 * .03) /  P(pos test | has predis) * P(has predis) + P(pos test | no predis) * P(no predis)\n",
    "\n",
    "= (.99 * .03) / (.99 * .03) + (.02 * .97) = 60%\n"
   ]
  },
  {
   "cell_type": "markdown",
   "metadata": {},
   "source": [
    "**7).** About 30% of human twins are identical, and the rest are fraternal. Identical twins are necessarily the same sex - half are males and the other half are females. One-quarter of fraternal twins are both male, one-quarter both female, and one-half are mixes: one male, one female. You have just become a parent of twins and are told they are both girls. Given this information, what is the probability that they are identical?"
   ]
  },
  {
   "cell_type": "raw",
   "metadata": {},
   "source": [
    "P(identical) = .30\n",
    "P(fraternal) = .70\n",
    "\n",
    "P(both male | identical) = .50\n",
    "P(both male | fraternal) = .25\n",
    "P(both female | identical) = .50\n",
    "P(both female | fraternal) = .25\n",
    "P(mixed | fraternal) = .50\n",
    "\n",
    "P(Identical | both female) = P(Both female | identical) * P(identical) / P(both female) = (.50 * .30) / (.5 * 3 + .25 * .7)\n",
    "= 46.15%"
   ]
  },
  {
   "cell_type": "markdown",
   "metadata": {},
   "source": [
    "**8).** The Birthday Problem.  Suppose there are 23 students in a data science class, lined up in a single file line.  \n",
    "    Let $A_i$ be the probability that the $i^{th}$ person doesn't have the same birthday as the $j^{th}$ person for any $j < i$.  \n",
    "    Use the chain rule from probability to calculate the probability that at least 2 people share the same birthday in the class. "
   ]
  },
  {
   "cell_type": "code",
   "execution_count": 10,
   "metadata": {},
   "outputs": [
    {
     "name": "stdout",
     "output_type": "stream",
     "text": [
      "0.5072972343239857\n"
     ]
    }
   ],
   "source": [
    "def chain_bday():\n",
    "    X = 1\n",
    "    for i in range (0,23):\n",
    "        X *= ((365-i)/365)\n",
    "    return (1 - X)\n",
    "print (chain_bday())"
   ]
  }
 ],
 "metadata": {
  "anaconda-cloud": {},
  "kernelspec": {
   "display_name": "Python 3",
   "language": "python",
   "name": "python3"
  },
  "language_info": {
   "codemirror_mode": {
    "name": "ipython",
    "version": 3
   },
   "file_extension": ".py",
   "mimetype": "text/x-python",
   "name": "python",
   "nbconvert_exporter": "python",
   "pygments_lexer": "ipython3",
   "version": "3.4.2"
  }
 },
 "nbformat": 4,
 "nbformat_minor": 1
}
