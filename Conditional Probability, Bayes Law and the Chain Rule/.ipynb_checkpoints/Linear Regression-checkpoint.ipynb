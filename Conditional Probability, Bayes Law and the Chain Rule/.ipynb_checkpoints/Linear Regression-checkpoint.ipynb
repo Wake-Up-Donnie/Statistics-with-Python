{
 "cells": [
  {
   "cell_type": "code",
   "execution_count": 37,
   "metadata": {
    "collapsed": true
   },
   "outputs": [],
   "source": [
    "import statsmodels.api  as sm"
   ]
  },
  {
   "cell_type": "code",
   "execution_count": 38,
   "metadata": {},
   "outputs": [
    {
     "name": "stdout",
     "output_type": "stream",
     "text": [
      "                    type  income  education  prestige\n",
      "accountant          prof      62         86        82\n",
      "pilot               prof      72         76        83\n",
      "architect           prof      75         92        90\n",
      "author              prof      55         90        76\n",
      "chemist             prof      64         86        90\n",
      "minister            prof      21         84        87\n",
      "professor           prof      64         93        93\n",
      "dentist             prof      80        100        90\n",
      "reporter              wc      67         87        52\n",
      "engineer            prof      72         86        88\n",
      "undertaker          prof      42         74        57\n",
      "lawyer              prof      76         98        89\n",
      "physician           prof      76         97        97\n",
      "welfare.worker      prof      41         84        59\n",
      "teacher             prof      48         91        73\n",
      "conductor             wc      76         34        38\n",
      "contractor          prof      53         45        76\n",
      "factory.owner       prof      60         56        81\n",
      "store.manager       prof      42         44        45\n",
      "banker              prof      78         82        92\n",
      "bookkeeper            wc      29         72        39\n",
      "mail.carrier          wc      48         55        34\n",
      "insurance.agent       wc      55         71        41\n",
      "store.clerk           wc      29         50        16\n",
      "carpenter             bc      21         23        33\n",
      "electrician           bc      47         39        53\n",
      "RR.engineer           bc      81         28        67\n",
      "machinist             bc      36         32        57\n",
      "auto.repairman        bc      22         22        26\n",
      "plumber               bc      44         25        29\n",
      "gas.stn.attendant     bc      15         29        10\n",
      "coal.miner            bc       7          7        15\n",
      "streetcar.motorman    bc      42         26        19\n",
      "taxi.driver           bc       9         19        10\n",
      "truck.driver          bc      21         15        13\n",
      "machine.operator      bc      21         20        24\n",
      "barber                bc      16         26        20\n",
      "bartender             bc      16         28         7\n",
      "shoe.shiner           bc       9         17         3\n",
      "cook                  bc      14         22        16\n",
      "soda.clerk            bc      12         30         6\n",
      "watchman              bc      17         25        11\n",
      "janitor               bc       7         20         8\n",
      "policeman             bc      34         47        41\n",
      "waiter                bc       8         32        10\n"
     ]
    }
   ],
   "source": [
    "prestige = sm.datasets.get_rdataset(\"Duncan\", \"car\", cache=True).data\n",
    "print(prestige)\n",
    "y = prestige['prestige']\n",
    "X = prestige[['income', 'education']].astype(float)\n",
    "X = sm.add_constant(X)\n",
    "X[\"income\"] = np.log1p(X.income)"
   ]
  },
  {
   "cell_type": "code",
   "execution_count": 39,
   "metadata": {},
   "outputs": [
    {
     "data": {
      "text/html": [
       "<div>\n",
       "<style>\n",
       "    .dataframe thead tr:only-child th {\n",
       "        text-align: right;\n",
       "    }\n",
       "\n",
       "    .dataframe thead th {\n",
       "        text-align: left;\n",
       "    }\n",
       "\n",
       "    .dataframe tbody tr th {\n",
       "        vertical-align: top;\n",
       "    }\n",
       "</style>\n",
       "<table border=\"1\" class=\"dataframe\">\n",
       "  <thead>\n",
       "    <tr style=\"text-align: right;\">\n",
       "      <th></th>\n",
       "      <th>const</th>\n",
       "      <th>income</th>\n",
       "      <th>education</th>\n",
       "    </tr>\n",
       "  </thead>\n",
       "  <tbody>\n",
       "    <tr>\n",
       "      <th>accountant</th>\n",
       "      <td>1.0</td>\n",
       "      <td>4.143135</td>\n",
       "      <td>86.0</td>\n",
       "    </tr>\n",
       "    <tr>\n",
       "      <th>pilot</th>\n",
       "      <td>1.0</td>\n",
       "      <td>4.290459</td>\n",
       "      <td>76.0</td>\n",
       "    </tr>\n",
       "    <tr>\n",
       "      <th>architect</th>\n",
       "      <td>1.0</td>\n",
       "      <td>4.330733</td>\n",
       "      <td>92.0</td>\n",
       "    </tr>\n",
       "    <tr>\n",
       "      <th>author</th>\n",
       "      <td>1.0</td>\n",
       "      <td>4.025352</td>\n",
       "      <td>90.0</td>\n",
       "    </tr>\n",
       "    <tr>\n",
       "      <th>chemist</th>\n",
       "      <td>1.0</td>\n",
       "      <td>4.174387</td>\n",
       "      <td>86.0</td>\n",
       "    </tr>\n",
       "  </tbody>\n",
       "</table>\n",
       "</div>"
      ],
      "text/plain": [
       "            const    income  education\n",
       "accountant    1.0  4.143135       86.0\n",
       "pilot         1.0  4.290459       76.0\n",
       "architect     1.0  4.330733       92.0\n",
       "author        1.0  4.025352       90.0\n",
       "chemist       1.0  4.174387       86.0"
      ]
     },
     "execution_count": 39,
     "metadata": {},
     "output_type": "execute_result"
    }
   ],
   "source": [
    "X.head()"
   ]
  },
  {
   "cell_type": "code",
   "execution_count": 40,
   "metadata": {},
   "outputs": [
    {
     "name": "stdout",
     "output_type": "stream",
     "text": [
      "Populating the interactive namespace from numpy and matplotlib\n"
     ]
    },
    {
     "name": "stderr",
     "output_type": "stream",
     "text": [
      "/Library/Frameworks/Python.framework/Versions/3.4/lib/python3.4/site-packages/ipykernel_launcher.py:6: FutureWarning: 'pandas.tools.plotting.scatter_matrix' is deprecated, import 'pandas.plotting.scatter_matrix' instead.\n",
      "  \n"
     ]
    },
    {
     "data": {
      "image/png": "[encoded data removed]",
      "text/plain": [
       "<matplotlib.figure.Figure at 0x10bf95668>"
      ]
     },
     "metadata": {},
     "output_type": "display_data"
    }
   ],
   "source": [
    "import pandas as pd\n",
    "import seaborn as sns\n",
    "from pandas.tools.plotting import scatter_matrix\n",
    "\n",
    "%pylab inline\n",
    "scatter_matrix(prestige);"
   ]
  },
  {
   "cell_type": "code",
   "execution_count": 41,
   "metadata": {},
   "outputs": [
    {
     "data": {
      "text/plain": [
       "<matplotlib.axes._subplots.AxesSubplot at 0x110ed7710>"
      ]
     },
     "execution_count": 41,
     "metadata": {},
     "output_type": "execute_result"
    },
    {
     "data": {
      "image/png": "[encoded data removed]",
      "text/plain": [
       "<matplotlib.figure.Figure at 0x10f0417f0>"
      ]
     },
     "metadata": {},
     "output_type": "display_data"
    }
   ],
   "source": [
    "#df_scatter_plot = [X,y]\n",
    "df_scatter_plot = pd.DataFrame(prestige)\n",
    "df_scatter_plot = df_scatter_plot.drop(\"type\", axis=1)\n",
    "df_scatter_plot.plot.box()"
   ]
  },
  {
   "cell_type": "markdown",
   "metadata": {},
   "source": [
    "The beta coefficients of a linear regression model can be calculated by solving the normal equation. Using numpy, write a function that solves the normal equation (below). As input your function should take a matrix of features (x) and a vector of target (y). You should return a vector of beta coefficients that represent the line of best fit which minimizes the residual.\n",
    " $$ \\hat{\\beta} = (X^TX)^{-1}X^Ty$$"
   ]
  },
  {
   "cell_type": "code",
   "execution_count": 42,
   "metadata": {},
   "outputs": [
    {
     "name": "stdout",
     "output_type": "stream",
     "text": [
      "[-48.93268355  18.75869507   0.57342008]\n"
     ]
    }
   ],
   "source": [
    "import numpy as np\n",
    "from numpy.linalg import inv\n",
    "def beta_coefficients(X, y):\n",
    "    X_np = np.asarray(X)\n",
    "    y_np = np.asarray(y)\n",
    "\n",
    "    transpose_dot_inv_X = inv(dot(X_np.T,X_np))\n",
    "\n",
    "    transpose_dot_X_y = dot(X_np.T,y_np)\n",
    "\n",
    "    beta_coeff = dot(transpose_dot_inv_X,transpose_dot_X_y)\n",
    "    return beta_coeff\n",
    "beta_coeff = beta_coefficients(X, y)\n",
    "print (beta_coeff)"
   ]
  },
  {
   "cell_type": "code",
   "execution_count": 43,
   "metadata": {},
   "outputs": [
    {
     "name": "stdout",
     "output_type": "stream",
     "text": [
      "                            OLS Regression Results                            \n",
      "==============================================================================\n",
      "Dep. Variable:               prestige   R-squared:                       0.814\n",
      "Model:                            OLS   Adj. R-squared:                  0.805\n",
      "Method:                 Least Squares   F-statistic:                     91.85\n",
      "Date:                Fri, 18 Aug 2017   Prob (F-statistic):           4.62e-16\n",
      "Time:                        15:19:52   Log-Likelihood:                -180.78\n",
      "No. Observations:                  45   AIC:                             367.6\n",
      "Df Residuals:                      42   BIC:                             373.0\n",
      "Df Model:                           2                                         \n",
      "Covariance Type:            nonrobust                                         \n",
      "==============================================================================\n",
      "                 coef    std err          t      P>|t|      [0.025      0.975]\n",
      "------------------------------------------------------------------------------\n",
      "const        -48.9327     11.823     -4.139      0.000     -72.792     -25.073\n",
      "income        18.7587      4.206      4.460      0.000      10.271      27.246\n",
      "education      0.5734      0.102      5.624      0.000       0.368       0.779\n",
      "==============================================================================\n",
      "Omnibus:                        0.114   Durbin-Watson:                   1.591\n",
      "Prob(Omnibus):                  0.944   Jarque-Bera (JB):                0.218\n",
      "Skew:                          -0.110   Prob(JB):                        0.897\n",
      "Kurtosis:                       2.740   Cond. No.                         363.\n",
      "==============================================================================\n",
      "\n",
      "Warnings:\n",
      "[1] Standard Errors assume that the covariance matrix of the errors is correctly specified.\n"
     ]
    }
   ],
   "source": [
    "model = sm.OLS(y, X).fit()\n",
    "summary = model.summary()\n",
    "print (summary)"
   ]
  },
  {
   "cell_type": "raw",
   "metadata": {},
   "source": [
    " result summary, focusing on the beta coefficents and the R^2 ."
   ]
  },
  {
   "cell_type": "code",
   "execution_count": null,
   "metadata": {},
   "outputs": [],
   "source": []
  },
  {
   "cell_type": "raw",
   "metadata": {},
   "source": [
    "y Intercept at -48.93\n",
    "slope for income is 18.75 and education is 0.5734\n",
    "as logincome increases by 1 prestige increases by 18.7587\n",
    "prob F-stat - we are 99% positive that we can reject the null hyp and our null hyp is that our R^2 = 0, so we can say our model has some explanatory power for the variation in our dependent variable.\n",
    "as education increases by 1, prestige increases by 0.5734\n",
    "They both have statistically significant p-values, both have \n",
    "R-squared is 0.814 which means that our model expains 81.4% of the varience in our dependant variable.\n",
    "The p-values for our t-tests, we want a t-value that is less than .1 . For our constant variable we have to accept our null hypothesis which is resonable beucse it is just our constant. For the other two variables we are going to reject it. This means that income and education has a significant effect on prestige.\n",
    "\n"
   ]
  },
  {
   "cell_type": "raw",
   "metadata": {
    "collapsed": true
   },
   "source": [
    "Using one hot encoding to put the categorical variable 'type' to numeric."
   ]
  },
  {
   "cell_type": "code",
   "execution_count": null,
   "metadata": {
    "collapsed": true
   },
   "outputs": [],
   "source": [
    "X = prestige[['type','income', 'education']]\n",
    "X = pd.get_dummies(X, columns=[\"type\"])\n",
    "X = sm.add_constant(X)"
   ]
  },
  {
   "cell_type": "code",
   "execution_count": null,
   "metadata": {},
   "outputs": [],
   "source": [
    "model = sm.OLS(y, X).fit()\n",
    "summary = model.summary()\n",
    "print (summary)"
   ]
  },
  {
   "cell_type": "raw",
   "metadata": {
    "collapsed": true
   },
   "source": [
    "You can see that adding in the type improved the model, the R-squared increased and each new feature is statistically significant in terms of their confidence intervals."
   ]
  },
  {
   "cell_type": "code",
   "execution_count": null,
   "metadata": {
    "collapsed": true
   },
   "outputs": [],
   "source": []
  }
 ],
 "metadata": {
  "kernelspec": {
   "display_name": "Python 3",
   "language": "python",
   "name": "python3"
  },
  "language_info": {
   "codemirror_mode": {
    "name": "ipython",
    "version": 3
   },
   "file_extension": ".py",
   "mimetype": "text/x-python",
   "name": "python",
   "nbconvert_exporter": "python",
   "pygments_lexer": "ipython3",
   "version": "3.4.2"
  }
 },
 "nbformat": 4,
 "nbformat_minor": 2
}
